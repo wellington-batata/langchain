{
 "cells": [
  {
   "cell_type": "markdown",
   "id": "ab379a4f",
   "metadata": {},
   "source": [
    "# Instalando dependencia"
   ]
  },
  {
   "cell_type": "code",
   "execution_count": null,
   "id": "221c82ee",
   "metadata": {},
   "outputs": [],
   "source": [
    "%pip list"
   ]
  },
  {
   "cell_type": "code",
   "execution_count": null,
   "id": "8c38720f",
   "metadata": {},
   "outputs": [],
   "source": [
    "%pip install langchain-huggingface dotenv"
   ]
  },
  {
   "cell_type": "markdown",
   "id": "744f8ed1",
   "metadata": {},
   "source": [
    "# Acessando Hugging Face com LangChain"
   ]
  },
  {
   "cell_type": "code",
   "execution_count": 7,
   "id": "298a15f0",
   "metadata": {},
   "outputs": [],
   "source": [
    "from langchain_huggingface import ChatHuggingFace, HuggingFaceEndpoint\n",
    "\n",
    "import os\n",
    "from dotenv import find_dotenv, load_dotenv\n",
    "\n",
    "# load the api key\n",
    "_ = load_dotenv(find_dotenv())\n",
    "api_key_hug = os.getenv(\"HUGGINGFACEHUB_API_TOKEN\")"
   ]
  },
  {
   "cell_type": "code",
   "execution_count": null,
   "id": "53a839c3",
   "metadata": {},
   "outputs": [],
   "source": [
    "%pip install ipywidgets"
   ]
  },
  {
   "cell_type": "code",
   "execution_count": 8,
   "id": "aeaca920",
   "metadata": {},
   "outputs": [],
   "source": [
    "model = \"microsoft/Phi-3-mini-4k-instruct\"\n",
    "\n",
    "llm = HuggingFaceEndpoint(\n",
    "    repo_id=model,\n",
    "    task=\"text-generation\",\n",
    "    max_new_tokens=512,\n",
    "    do_sample=False,\n",
    "    repetition_penalty=1.03,\n",
    "    huggingfacehub_api_token=api_key_hug\n",
    ")\n",
    "\n",
    "chat = ChatHuggingFace(llm=llm, verbose=True)\n"
   ]
  },
  {
   "cell_type": "code",
   "execution_count": 10,
   "id": "0a60d47c",
   "metadata": {},
   "outputs": [
    {
     "name": "stdout",
     "output_type": "stream",
     "text": [
      " A mi me encanta Python.\n"
     ]
    }
   ],
   "source": [
    "from langchain_core.messages import HumanMessage, AIMessage, SystemMessage\n",
    "\n",
    "messages = [\n",
    "    HumanMessage(content=\"Translate this sentence from English to French. I love programming.\"),\n",
    "    AIMessage(content=\"J'aime la programmation.\"),\n",
    "    HumanMessage(content=\"Translate this sentence from English to French. I love artificial intelligence.\"),\n",
    "    AIMessage(content=\"J'aime l'intelligence artificielle.\"),\n",
    "    HumanMessage(content=\"Translate this sentence from English to Spanish. I love Python.\"),\n",
    "]\n",
    "\n",
    "\n",
    "response = chat.invoke(messages)\n",
    "print(response.content)"
   ]
  },
  {
   "cell_type": "markdown",
   "id": "017de603",
   "metadata": {},
   "source": [
    "# Usando outro modelo "
   ]
  },
  {
   "cell_type": "code",
   "execution_count": null,
   "id": "3d78b2cc",
   "metadata": {},
   "outputs": [],
   "source": [
    "%pip install -qU langchain-deepseek"
   ]
  },
  {
   "cell_type": "code",
   "execution_count": 11,
   "id": "2fdec96b",
   "metadata": {},
   "outputs": [],
   "source": [
    "model = \"deepseek-ai/DeepSeek-R1\"\n",
    "\n",
    "llm = HuggingFaceEndpoint(\n",
    "    repo_id=model,\n",
    "    task=\"text-generation\",\n",
    "    max_new_tokens=512,\n",
    "    do_sample=False,\n",
    "    repetition_penalty=1.03,\n",
    "    huggingfacehub_api_token=api_key_hug\n",
    ")\n",
    "\n",
    "chat = ChatHuggingFace(llm=llm, verbose=True)"
   ]
  },
  {
   "cell_type": "code",
   "execution_count": 14,
   "id": "aa66af34",
   "metadata": {},
   "outputs": [
    {
     "name": "stdout",
     "output_type": "stream",
     "text": [
      "<think>\n",
      "Okay, the user wants to translate \"I love Python\" into Spanish. Let me start by recalling the standard translation for \"I love\" in Spanish. The verb \"to love\" can be \"amar\" or \"querer,\" but in this context, expressing a strong liking for something, \"Me encanta\" is commonly used. \"Me encanta\" translates to \"I love\" in the sense of really liking something.\n",
      "\n",
      "Now, for \"Python.\" Since Python is a proper noun (the programming language), it doesn't change in Spanish. However, sometimes in Spanish, articles are used before nouns. But in this case, since it's a proper noun and the name of a language, it's typically left as is. So \"Python\" remains \"Python\" in Spanish. \n",
      "\n",
      "Putting it together: \"Me encanta Python.\" That seems correct. Wait, should there be an article like \"el\" before Python? For example, \"Me encanta el Python.\" Hmm, no, because Python is a name. For example, we say \"Me encanta Java\" not \"Me encanta el Java.\" So articles aren't used here. \n",
      "\n",
      "Let me double-check. If the sentence were \"I love programming,\" it would be \"Me encanta programar\" or \"Me encanta la programación.\" But since Python is a specific name, no article is needed. \n",
      "\n",
      "Another example: \"I love JavaScript\" would be \"Me encanta JavaScript.\" So yes, \"Me encanta Python\" is correct. \n",
      "\n",
      "Wait, but sometimes in Spanish, when referring to a language, you might use the article. For example, \"Me encanta el español.\" But in this case, Python is a programming language, not a natural language. So maybe the article isn't necessary. \n",
      "\n",
      "Alternatively, maybe the user is referring to the snake, \"python.\" But given the context of previous translations (programming, artificial intelligence), it's safe to assume they mean the programming language. \n",
      "\n",
      "So the correct translation should be \"Me encanta Python.\" That's straightforward. I think that's the right answer. Let me confirm with a quick check. Yes, looking up examples, \"Me encanta Python\" is the standard translation used for the programming language. No article needed. Alright, that's the translation.\n",
      "</think>\n",
      "\n",
      "The translation of \"I love Python\" into Spanish is:  \n",
      "**\"Me encanta Python.\"**  \n",
      "\n",
      "(Note: If referring to the programming language, \"Python\" remains the same in Spanish. If referring to the snake, you could specify \"la pitón,\" but context suggests the programming language here.)\n"
     ]
    }
   ],
   "source": [
    "messages = [\n",
    "    HumanMessage(content=\"Translate this sentence from English to French. I love programming.\"),\n",
    "    AIMessage(content=\"J'aime la programmation.\"),\n",
    "    HumanMessage(content=\"Translate this sentence from English to French. I love artificial intelligence.\"),\n",
    "    AIMessage(content=\"J'aime l'intelligence artificielle.\"),\n",
    "    HumanMessage(content=\"Translate this sentence from English to Spanish. I love Python.\"),\n",
    "]\n",
    "\n",
    "response = chat.invoke(messages)\n",
    "print(response.content)"
   ]
  }
 ],
 "metadata": {
  "kernelspec": {
   "display_name": ".venv",
   "language": "python",
   "name": "python3"
  },
  "language_info": {
   "codemirror_mode": {
    "name": "ipython",
    "version": 3
   },
   "file_extension": ".py",
   "mimetype": "text/x-python",
   "name": "python",
   "nbconvert_exporter": "python",
   "pygments_lexer": "ipython3",
   "version": "3.13.2"
  }
 },
 "nbformat": 4,
 "nbformat_minor": 5
}
