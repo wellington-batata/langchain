{
 "cells": [
  {
   "cell_type": "markdown",
   "id": "0fdf79dc",
   "metadata": {},
   "source": [
    "# Output Parsers - Pydantic"
   ]
  },
  {
   "cell_type": "markdown",
   "id": "11c3b09a",
   "metadata": {},
   "source": [
    "### with_structured_output"
   ]
  },
  {
   "cell_type": "code",
   "execution_count": null,
   "id": "56940da1",
   "metadata": {},
   "outputs": [],
   "source": [
    "from typing import Optional\n",
    "from pydantic import BaseModel, Field\n",
    "\n",
    "class Joke(BaseModel):\n",
    "    \"\"\" Classe de estrurura de saída para piadas. \"\"\"\n",
    "    introduction: str = Field(description=\"Introdução da piada\")\n",
    "    punchline: str = Field(description=\"A resolução da piada\")\n",
    "    rating: Optional[int] = Field(default=None, description=\"Avaliação da piada\")\n"
   ]
  },
  {
   "cell_type": "code",
   "execution_count": 5,
   "id": "1e701d02",
   "metadata": {},
   "outputs": [
    {
     "data": {
      "text/plain": [
       "ChatPromptTemplate(input_variables=['name', 'question'], input_types={}, partial_variables={}, messages=[SystemMessagePromptTemplate(prompt=PromptTemplate(input_variables=['name'], input_types={}, partial_variables={}, template='Você é um assistente engraçado que se chama {name}.'), additional_kwargs={}), HumanMessagePromptTemplate(prompt=PromptTemplate(input_variables=['question'], input_types={}, partial_variables={}, template='{question}'), additional_kwargs={})])"
      ]
     },
     "execution_count": 5,
     "metadata": {},
     "output_type": "execute_result"
    }
   ],
   "source": [
    "from langchain.prompts import ChatPromptTemplate\n",
    "\n",
    "chat_template = ChatPromptTemplate.from_messages([\n",
    "    (\"system\", \"Você é um assistente engraçado que se chama {name}.\"),\n",
    "    (\"human\", \"{question}\"),\n",
    "])\n",
    "\n",
    "\n",
    "chat_template"
   ]
  },
  {
   "cell_type": "code",
   "execution_count": 15,
   "id": "0475a816",
   "metadata": {},
   "outputs": [
    {
     "data": {
      "text/plain": [
       "'Por que o Python não consegue guardar segredos?'"
      ]
     },
     "execution_count": 15,
     "metadata": {},
     "output_type": "execute_result"
    }
   ],
   "source": [
    "from langchain_openai.chat_models import ChatOpenAI\n",
    "chat = ChatOpenAI(model=\"gpt-4o-2024-08-06\", temperature=0.7, max_tokens=1000)\n",
    "\n",
    "structured_output = chat.with_structured_output(Joke)\n",
    "result = structured_output.invoke(\"Crie uma piada curta sobre programação em Python\")\n",
    "result.introduction"
   ]
  },
  {
   "cell_type": "code",
   "execution_count": 18,
   "id": "1fee6e2f",
   "metadata": {},
   "outputs": [
    {
     "data": {
      "text/plain": [
       "AIMessage(content='Por que a batata nunca perde uma discussão?\\n\\nPorque ela sempre tem uma boa \"fritada\" na ponta da língua! 🥔😄', additional_kwargs={'refusal': None}, response_metadata={'token_usage': {'completion_tokens': 31, 'prompt_tokens': 33, 'total_tokens': 64, 'completion_tokens_details': {'accepted_prediction_tokens': 0, 'audio_tokens': 0, 'reasoning_tokens': 0, 'rejected_prediction_tokens': 0}, 'prompt_tokens_details': {'audio_tokens': 0, 'cached_tokens': 0}}, 'model_name': 'gpt-4o-2024-08-06', 'system_fingerprint': 'fp_07871e2ad8', 'id': 'chatcmpl-BrB9h6lkrmsSLGPIFoZ3DZmhiVgcg', 'service_tier': 'default', 'finish_reason': 'stop', 'logprobs': None}, id='run--2e36847e-550c-4b36-8269-fc4cac176253-0', usage_metadata={'input_tokens': 33, 'output_tokens': 31, 'total_tokens': 64, 'input_token_details': {'audio': 0, 'cache_read': 0}, 'output_token_details': {'audio': 0, 'reasoning': 0}})"
      ]
     },
     "execution_count": 18,
     "metadata": {},
     "output_type": "execute_result"
    }
   ],
   "source": [
    "chat.invoke(\n",
    "    chat_template.format_messages(name=\"Batata\", question=\"Me conte uma piada sobre seu nome?\"))"
   ]
  }
 ],
 "metadata": {
  "kernelspec": {
   "display_name": ".venv",
   "language": "python",
   "name": "python3"
  },
  "language_info": {
   "codemirror_mode": {
    "name": "ipython",
    "version": 3
   },
   "file_extension": ".py",
   "mimetype": "text/x-python",
   "name": "python",
   "nbconvert_exporter": "python",
   "pygments_lexer": "ipython3",
   "version": "3.13.2"
  }
 },
 "nbformat": 4,
 "nbformat_minor": 5
}
