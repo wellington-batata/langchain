{
 "cells": [
  {
   "cell_type": "markdown",
   "id": "bbf9a632",
   "metadata": {},
   "source": [
    "# Review de cliente"
   ]
  },
  {
   "cell_type": "code",
   "execution_count": 2,
   "id": "528afeb1",
   "metadata": {},
   "outputs": [],
   "source": [
    "from typing import Optional\n",
    "from pydantic import BaseModel, Field\n",
    "\n",
    "class ReviewClass(BaseModel):\n",
    "    \"\"\" Classe de estrutura de saída para avaliações de clientes. \"\"\"\n",
    "    product_name: str = Field(description=\"breve descrição do produto\")\n",
    "    delivery: str = Field(description=\"Se o cliente ficou satisfeito com a entrega\")\n",
    "    product: str = Field(description=\"cliente ficou satisfeito com a produto\")\n",
    "    service: str = Field(description=\"Se o cliente ficou satisfeito com o atendimento\")\n",
    "    satisfaction: str = Field(description=\"Se o cliente ficou satisfeito com a compra\")\n"
   ]
  },
  {
   "cell_type": "code",
   "execution_count": 3,
   "id": "4c1b8142",
   "metadata": {},
   "outputs": [],
   "source": [
    "router_review = \"Aparelho de altíssima qualidade, totalmente fácil de configurar e intuitivo, menus em pt br, \\\n",
    "        e para quem paga algum app para monitoramento de rede, esqueça isso, compre esse aparelho vc pagará \\\n",
    "        uma única vez terá um excelente roteador para sempre e o app do roteador já possui o monitoramento de \\\n",
    "        rede de altíssima qualidade e precisão podendo mesmo até limitar uso e criar Wi-Fi para convidados com \\\n",
    "        uma banda de rede menor.\""
   ]
  },
  {
   "cell_type": "code",
   "execution_count": 4,
   "id": "c5d7aa6d",
   "metadata": {},
   "outputs": [
    {
     "data": {
      "text/plain": [
       "ReviewClass(product_name='Roteador Wi-Fi', delivery='N/A', product='O cliente está extremamente satisfeito com a qualidade e funcionalidade do produto, destacando sua facilidade de configuração, interface intuitiva e qualidade do monitoramento de rede.', service='N/A', satisfaction='O cliente está muito satisfeito com a compra, enfatizando que o aparelho oferece um excelente custo-benefício e funcionalidades avançadas.')"
      ]
     },
     "execution_count": 4,
     "metadata": {},
     "output_type": "execute_result"
    }
   ],
   "source": [
    "from langchain_openai.chat_models import ChatOpenAI\n",
    "chat = ChatOpenAI(model=\"gpt-4o-2024-08-06\", temperature=0.7, max_tokens=1000)\n",
    "\n",
    "structured_output = chat.with_structured_output(ReviewClass)\n",
    "result = structured_output.invoke(\"Verifique a seguinte avaliação de cliente e retorne os campos solicitados: \" + router_review)\n",
    "result"
   ]
  }
 ],
 "metadata": {
  "kernelspec": {
   "display_name": ".venv",
   "language": "python",
   "name": "python3"
  },
  "language_info": {
   "codemirror_mode": {
    "name": "ipython",
    "version": 3
   },
   "file_extension": ".py",
   "mimetype": "text/x-python",
   "name": "python",
   "nbconvert_exporter": "python",
   "pygments_lexer": "ipython3",
   "version": "3.13.2"
  }
 },
 "nbformat": 4,
 "nbformat_minor": 5
}
