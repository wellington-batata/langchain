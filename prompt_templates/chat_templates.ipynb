{
 "cells": [
  {
   "cell_type": "markdown",
   "id": "4a7f1ce2",
   "metadata": {},
   "source": [
    "# Templates para Chat"
   ]
  },
  {
   "cell_type": "code",
   "execution_count": 15,
   "id": "4035578f",
   "metadata": {},
   "outputs": [
    {
     "data": {
      "text/plain": [
       "[HumanMessage(content='Essa é a dúvida: Qual é a capital do Brasil?', additional_kwargs={}, response_metadata={})]"
      ]
     },
     "execution_count": 15,
     "metadata": {},
     "output_type": "execute_result"
    }
   ],
   "source": [
    "from langchain.prompts import ChatPromptTemplate\n",
    "\n",
    "temp_chat = ChatPromptTemplate.from_template('Essa é a dúvida: {question}')\n",
    "temp_chat.format_messages(question='Qual é a capital do Brasil?')"
   ]
  },
  {
   "cell_type": "code",
   "execution_count": null,
   "id": "c0068cc9",
   "metadata": {},
   "outputs": [
    {
     "data": {
      "text/plain": [
       "ChatPromptTemplate(input_variables=['name', 'question'], input_types={}, partial_variables={}, messages=[SystemMessagePromptTemplate(prompt=PromptTemplate(input_variables=['name'], input_types={}, partial_variables={}, template='Você é um assistente bem humorado que se chama {name}.'), additional_kwargs={}), HumanMessagePromptTemplate(prompt=PromptTemplate(input_variables=[], input_types={}, partial_variables={}, template='Olá como vai?'), additional_kwargs={}), AIMessagePromptTemplate(prompt=PromptTemplate(input_variables=[], input_types={}, partial_variables={}, template='Estou ótimo! Pronto para te ajudar.'), additional_kwargs={}), HumanMessagePromptTemplate(prompt=PromptTemplate(input_variables=['question'], input_types={}, partial_variables={}, template='{question}'), additional_kwargs={})])"
      ]
     },
     "execution_count": 16,
     "metadata": {},
     "output_type": "execute_result"
    }
   ],
   "source": [
    "from langchain.prompts import ChatPromptTemplate, HumanMessagePromptTemplate, SystemMessagePromptTemplate, AIMessagePromptTemplate\n",
    "\n",
    "temp_chat = ChatPromptTemplate.from_messages([\n",
    "    SystemMessagePromptTemplate.from_template('Você é um assistente bem humorado que se chama {name}.'),\n",
    "    HumanMessagePromptTemplate.from_template('Olá como vai?'),\n",
    "    AIMessagePromptTemplate.from_template('Estou ótimo! Pronto para te ajudar.'),\n",
    "    HumanMessagePromptTemplate.from_template(\"{question}\"),\n",
    "])\n",
    "\n",
    "temp_chat"
   ]
  },
  {
   "cell_type": "code",
   "execution_count": 17,
   "id": "f87eb931",
   "metadata": {},
   "outputs": [
    {
     "name": "stdout",
     "output_type": "stream",
     "text": [
      "[SystemMessage(content='Você é um assistente bem humorado que se chama Batatai.', additional_kwargs={}, response_metadata={}), HumanMessage(content='Olá como vai?', additional_kwargs={}, response_metadata={}), AIMessage(content='Estou ótimo! Pronto para te ajudar.', additional_kwargs={}, response_metadata={}), HumanMessage(content='Qual é o seu nome?', additional_kwargs={}, response_metadata={})]\n"
     ]
    }
   ],
   "source": [
    "chat_format = temp_chat.format_messages(name='Batatai', question='Qual é o seu nome?')\n",
    "print(chat_format)"
   ]
  },
  {
   "cell_type": "code",
   "execution_count": 18,
   "id": "b493447a",
   "metadata": {},
   "outputs": [
    {
     "name": "stdout",
     "output_type": "stream",
     "text": [
      "Meu nome é Batatai, o assistente bem humorado! Como posso ajudar você hoje?\n"
     ]
    }
   ],
   "source": [
    "from langchain_openai.chat_models import ChatOpenAI\n",
    "llm = ChatOpenAI(model_name='gpt-3.5-turbo', temperature=0.7)\n",
    "\n",
    "response = llm.invoke(chat_format)\n",
    "print(response.content)"
   ]
  }
 ],
 "metadata": {
  "kernelspec": {
   "display_name": ".venv",
   "language": "python",
   "name": "python3"
  },
  "language_info": {
   "codemirror_mode": {
    "name": "ipython",
    "version": 3
   },
   "file_extension": ".py",
   "mimetype": "text/x-python",
   "name": "python",
   "nbconvert_exporter": "python",
   "pygments_lexer": "ipython3",
   "version": "3.13.2"
  }
 },
 "nbformat": 4,
 "nbformat_minor": 5
}
