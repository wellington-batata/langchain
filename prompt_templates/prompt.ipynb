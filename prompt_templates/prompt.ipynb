{
 "cells": [
  {
   "cell_type": "markdown",
   "id": "1b3be745",
   "metadata": {},
   "source": [
    "# Prompt templates"
   ]
  },
  {
   "cell_type": "markdown",
   "id": "1b750e2b",
   "metadata": {},
   "source": [
    "### Instalando a dependencia"
   ]
  },
  {
   "cell_type": "code",
   "execution_count": null,
   "id": "92874733",
   "metadata": {},
   "outputs": [
    {
     "name": "stdout",
     "output_type": "stream",
     "text": [
      "Collecting langchain\n",
      "  Using cached langchain-0.3.25-py3-none-any.whl.metadata (7.8 kB)\n",
      "Requirement already satisfied: langchain-core<1.0.0,>=0.3.58 in c:\\users\\wellington\\documents\\projetos\\github\\asimov\\langchain\\.venv\\lib\\site-packages (from langchain) (0.3.61)\n",
      "Collecting langchain-text-splitters<1.0.0,>=0.3.8 (from langchain)\n",
      "  Using cached langchain_text_splitters-0.3.8-py3-none-any.whl.metadata (1.9 kB)\n",
      "Requirement already satisfied: langsmith<0.4,>=0.1.17 in c:\\users\\wellington\\documents\\projetos\\github\\asimov\\langchain\\.venv\\lib\\site-packages (from langchain) (0.3.42)\n",
      "Requirement already satisfied: pydantic<3.0.0,>=2.7.4 in c:\\users\\wellington\\documents\\projetos\\github\\asimov\\langchain\\.venv\\lib\\site-packages (from langchain) (2.11.5)\n",
      "Collecting SQLAlchemy<3,>=1.4 (from langchain)\n",
      "  Using cached sqlalchemy-2.0.41-cp313-cp313-win_amd64.whl.metadata (9.8 kB)\n",
      "Requirement already satisfied: requests<3,>=2 in c:\\users\\wellington\\documents\\projetos\\github\\asimov\\langchain\\.venv\\lib\\site-packages (from langchain) (2.32.3)\n",
      "Requirement already satisfied: PyYAML>=5.3 in c:\\users\\wellington\\documents\\projetos\\github\\asimov\\langchain\\.venv\\lib\\site-packages (from langchain) (6.0.2)\n",
      "Requirement already satisfied: tenacity!=8.4.0,<10.0.0,>=8.1.0 in c:\\users\\wellington\\documents\\projetos\\github\\asimov\\langchain\\.venv\\lib\\site-packages (from langchain-core<1.0.0,>=0.3.58->langchain) (9.1.2)\n",
      "Requirement already satisfied: jsonpatch<2.0,>=1.33 in c:\\users\\wellington\\documents\\projetos\\github\\asimov\\langchain\\.venv\\lib\\site-packages (from langchain-core<1.0.0,>=0.3.58->langchain) (1.33)\n",
      "Requirement already satisfied: packaging<25,>=23.2 in c:\\users\\wellington\\documents\\projetos\\github\\asimov\\langchain\\.venv\\lib\\site-packages (from langchain-core<1.0.0,>=0.3.58->langchain) (24.2)\n",
      "Requirement already satisfied: typing-extensions>=4.7 in c:\\users\\wellington\\documents\\projetos\\github\\asimov\\langchain\\.venv\\lib\\site-packages (from langchain-core<1.0.0,>=0.3.58->langchain) (4.13.2)\n",
      "Requirement already satisfied: jsonpointer>=1.9 in c:\\users\\wellington\\documents\\projetos\\github\\asimov\\langchain\\.venv\\lib\\site-packages (from jsonpatch<2.0,>=1.33->langchain-core<1.0.0,>=0.3.58->langchain) (3.0.0)\n",
      "Requirement already satisfied: httpx<1,>=0.23.0 in c:\\users\\wellington\\documents\\projetos\\github\\asimov\\langchain\\.venv\\lib\\site-packages (from langsmith<0.4,>=0.1.17->langchain) (0.28.1)\n",
      "Requirement already satisfied: orjson<4.0.0,>=3.9.14 in c:\\users\\wellington\\documents\\projetos\\github\\asimov\\langchain\\.venv\\lib\\site-packages (from langsmith<0.4,>=0.1.17->langchain) (3.10.18)\n",
      "Requirement already satisfied: requests-toolbelt<2.0.0,>=1.0.0 in c:\\users\\wellington\\documents\\projetos\\github\\asimov\\langchain\\.venv\\lib\\site-packages (from langsmith<0.4,>=0.1.17->langchain) (1.0.0)\n",
      "Requirement already satisfied: zstandard<0.24.0,>=0.23.0 in c:\\users\\wellington\\documents\\projetos\\github\\asimov\\langchain\\.venv\\lib\\site-packages (from langsmith<0.4,>=0.1.17->langchain) (0.23.0)\n",
      "Requirement already satisfied: anyio in c:\\users\\wellington\\documents\\projetos\\github\\asimov\\langchain\\.venv\\lib\\site-packages (from httpx<1,>=0.23.0->langsmith<0.4,>=0.1.17->langchain) (4.9.0)\n",
      "Requirement already satisfied: certifi in c:\\users\\wellington\\documents\\projetos\\github\\asimov\\langchain\\.venv\\lib\\site-packages (from httpx<1,>=0.23.0->langsmith<0.4,>=0.1.17->langchain) (2025.4.26)\n",
      "Requirement already satisfied: httpcore==1.* in c:\\users\\wellington\\documents\\projetos\\github\\asimov\\langchain\\.venv\\lib\\site-packages (from httpx<1,>=0.23.0->langsmith<0.4,>=0.1.17->langchain) (1.0.9)\n",
      "Requirement already satisfied: idna in c:\\users\\wellington\\documents\\projetos\\github\\asimov\\langchain\\.venv\\lib\\site-packages (from httpx<1,>=0.23.0->langsmith<0.4,>=0.1.17->langchain) (3.10)\n",
      "Requirement already satisfied: h11>=0.16 in c:\\users\\wellington\\documents\\projetos\\github\\asimov\\langchain\\.venv\\lib\\site-packages (from httpcore==1.*->httpx<1,>=0.23.0->langsmith<0.4,>=0.1.17->langchain) (0.16.0)\n",
      "Requirement already satisfied: annotated-types>=0.6.0 in c:\\users\\wellington\\documents\\projetos\\github\\asimov\\langchain\\.venv\\lib\\site-packages (from pydantic<3.0.0,>=2.7.4->langchain) (0.7.0)\n",
      "Requirement already satisfied: pydantic-core==2.33.2 in c:\\users\\wellington\\documents\\projetos\\github\\asimov\\langchain\\.venv\\lib\\site-packages (from pydantic<3.0.0,>=2.7.4->langchain) (2.33.2)\n",
      "Requirement already satisfied: typing-inspection>=0.4.0 in c:\\users\\wellington\\documents\\projetos\\github\\asimov\\langchain\\.venv\\lib\\site-packages (from pydantic<3.0.0,>=2.7.4->langchain) (0.4.1)\n",
      "Requirement already satisfied: charset-normalizer<4,>=2 in c:\\users\\wellington\\documents\\projetos\\github\\asimov\\langchain\\.venv\\lib\\site-packages (from requests<3,>=2->langchain) (3.4.2)\n",
      "Requirement already satisfied: urllib3<3,>=1.21.1 in c:\\users\\wellington\\documents\\projetos\\github\\asimov\\langchain\\.venv\\lib\\site-packages (from requests<3,>=2->langchain) (2.4.0)\n",
      "Collecting greenlet>=1 (from SQLAlchemy<3,>=1.4->langchain)\n",
      "  Using cached greenlet-3.2.2-cp313-cp313-win_amd64.whl.metadata (4.2 kB)\n",
      "Requirement already satisfied: sniffio>=1.1 in c:\\users\\wellington\\documents\\projetos\\github\\asimov\\langchain\\.venv\\lib\\site-packages (from anyio->httpx<1,>=0.23.0->langsmith<0.4,>=0.1.17->langchain) (1.3.1)\n",
      "Using cached langchain-0.3.25-py3-none-any.whl (1.0 MB)\n",
      "Using cached langchain_text_splitters-0.3.8-py3-none-any.whl (32 kB)\n",
      "Using cached sqlalchemy-2.0.41-cp313-cp313-win_amd64.whl (2.1 MB)\n",
      "Using cached greenlet-3.2.2-cp313-cp313-win_amd64.whl (296 kB)\n",
      "Installing collected packages: greenlet, SQLAlchemy, langchain-text-splitters, langchain\n",
      "\n",
      "   ---------------------------------------- 0/4 [greenlet]\n",
      "   ---------- ----------------------------- 1/4 [SQLAlchemy]\n",
      "   ---------- ----------------------------- 1/4 [SQLAlchemy]\n",
      "   ---------- ----------------------------- 1/4 [SQLAlchemy]\n",
      "   ---------- ----------------------------- 1/4 [SQLAlchemy]\n",
      "   ---------- ----------------------------- 1/4 [SQLAlchemy]\n",
      "   ---------- ----------------------------- 1/4 [SQLAlchemy]\n",
      "   ---------- ----------------------------- 1/4 [SQLAlchemy]\n",
      "   ---------- ----------------------------- 1/4 [SQLAlchemy]\n",
      "   ---------- ----------------------------- 1/4 [SQLAlchemy]\n",
      "   ---------- ----------------------------- 1/4 [SQLAlchemy]\n",
      "   ---------- ----------------------------- 1/4 [SQLAlchemy]\n",
      "   ---------- ----------------------------- 1/4 [SQLAlchemy]\n",
      "   ---------- ----------------------------- 1/4 [SQLAlchemy]\n",
      "   ---------- ----------------------------- 1/4 [SQLAlchemy]\n",
      "   ---------- ----------------------------- 1/4 [SQLAlchemy]\n",
      "   ---------- ----------------------------- 1/4 [SQLAlchemy]\n",
      "   ---------- ----------------------------- 1/4 [SQLAlchemy]\n",
      "   ---------- ----------------------------- 1/4 [SQLAlchemy]\n",
      "   ---------- ----------------------------- 1/4 [SQLAlchemy]\n",
      "   -------------------- ------------------- 2/4 [langchain-text-splitters]\n",
      "   ------------------------------ --------- 3/4 [langchain]\n",
      "   ------------------------------ --------- 3/4 [langchain]\n",
      "   ------------------------------ --------- 3/4 [langchain]\n",
      "   ------------------------------ --------- 3/4 [langchain]\n",
      "   ------------------------------ --------- 3/4 [langchain]\n",
      "   ------------------------------ --------- 3/4 [langchain]\n",
      "   ------------------------------ --------- 3/4 [langchain]\n",
      "   ------------------------------ --------- 3/4 [langchain]\n",
      "   ------------------------------ --------- 3/4 [langchain]\n",
      "   ------------------------------ --------- 3/4 [langchain]\n",
      "   ------------------------------ --------- 3/4 [langchain]\n",
      "   ------------------------------ --------- 3/4 [langchain]\n",
      "   ------------------------------ --------- 3/4 [langchain]\n",
      "   ------------------------------ --------- 3/4 [langchain]\n",
      "   ------------------------------ --------- 3/4 [langchain]\n",
      "   ------------------------------ --------- 3/4 [langchain]\n",
      "   ------------------------------ --------- 3/4 [langchain]\n",
      "   ------------------------------ --------- 3/4 [langchain]\n",
      "   ------------------------------ --------- 3/4 [langchain]\n",
      "   ------------------------------ --------- 3/4 [langchain]\n",
      "   ------------------------------ --------- 3/4 [langchain]\n",
      "   ------------------------------ --------- 3/4 [langchain]\n",
      "   ------------------------------ --------- 3/4 [langchain]\n",
      "   ------------------------------ --------- 3/4 [langchain]\n",
      "   ------------------------------ --------- 3/4 [langchain]\n",
      "   ------------------------------ --------- 3/4 [langchain]\n",
      "   ------------------------------ --------- 3/4 [langchain]\n",
      "   ------------------------------ --------- 3/4 [langchain]\n",
      "   ------------------------------ --------- 3/4 [langchain]\n",
      "   ------------------------------ --------- 3/4 [langchain]\n",
      "   ------------------------------ --------- 3/4 [langchain]\n",
      "   ------------------------------ --------- 3/4 [langchain]\n",
      "   ------------------------------ --------- 3/4 [langchain]\n",
      "   ------------------------------ --------- 3/4 [langchain]\n",
      "   ------------------------------ --------- 3/4 [langchain]\n",
      "   ------------------------------ --------- 3/4 [langchain]\n",
      "   ------------------------------ --------- 3/4 [langchain]\n",
      "   ------------------------------ --------- 3/4 [langchain]\n",
      "   ------------------------------ --------- 3/4 [langchain]\n",
      "   ------------------------------ --------- 3/4 [langchain]\n",
      "   ------------------------------ --------- 3/4 [langchain]\n",
      "   ------------------------------ --------- 3/4 [langchain]\n",
      "   ------------------------------ --------- 3/4 [langchain]\n",
      "   ------------------------------ --------- 3/4 [langchain]\n",
      "   ------------------------------ --------- 3/4 [langchain]\n",
      "   ------------------------------ --------- 3/4 [langchain]\n",
      "   ------------------------------ --------- 3/4 [langchain]\n",
      "   ------------------------------ --------- 3/4 [langchain]\n",
      "   ---------------------------------------- 4/4 [langchain]\n",
      "\n",
      "Successfully installed SQLAlchemy-2.0.41 greenlet-3.2.2 langchain-0.3.25 langchain-text-splitters-0.3.8\n",
      "Note: you may need to restart the kernel to use updated packages.\n"
     ]
    }
   ],
   "source": [
    "%pip install langchain"
   ]
  },
  {
   "cell_type": "code",
   "execution_count": 10,
   "id": "550c3f3e",
   "metadata": {},
   "outputs": [],
   "source": [
    "from langchain_openai.llms import OpenAI\n",
    "\n",
    "llm = OpenAI()\n"
   ]
  },
  {
   "cell_type": "code",
   "execution_count": 22,
   "id": "6c30b771",
   "metadata": {},
   "outputs": [],
   "source": [
    "from langchain.prompts import PromptTemplate\n",
    "\n",
    "prompt_template = PromptTemplate.from_template(\n",
    "    '''\n",
    "    Você é um assistente de vendas que responde perguntas sobre produtos.''\n",
    "    Responda a essa pergunta: {question}.\n",
    "    Responda com uma frase curta, direta e objetiva.\n",
    "    '''\n",
    ")\n",
    "prompt = prompt_template.format(question='Qual é o maior animal terrestre?')\n"
   ]
  },
  {
   "cell_type": "code",
   "execution_count": 24,
   "id": "852ecc17",
   "metadata": {},
   "outputs": [
    {
     "name": "stdout",
     "output_type": "stream",
     "text": [
      "\n",
      "O elefante africano é o maior animal terrestre."
     ]
    }
   ],
   "source": [
    "answer = llm.invoke(prompt)\n",
    "\n",
    "print(answer, end='')"
   ]
  },
  {
   "cell_type": "markdown",
   "id": "fb1e730a",
   "metadata": {},
   "source": [
    "# Template com Ns variáveis"
   ]
  },
  {
   "cell_type": "code",
   "execution_count": 60,
   "id": "8fda4de3",
   "metadata": {},
   "outputs": [
    {
     "name": "stdout",
     "output_type": "stream",
     "text": [
      "\n",
      "    Com até 10 palavras.\n",
      "    \n",
      "    Responda a pergunta: O que é uma estrela?.\n",
      "    \n",
      "    Na lingua: english\n",
      "    "
     ]
    }
   ],
   "source": [
    "p_lanquage = PromptTemplate.from_template(\n",
    "    '''\n",
    "    Na lingua: {language}\n",
    "    '''\n",
    ")\n",
    "\n",
    "p_question = PromptTemplate.from_template(\n",
    "    '''\n",
    "    Responda a pergunta: {question}.\n",
    "    '''\n",
    ")\n",
    "\n",
    "p_words_count = PromptTemplate.from_template(\n",
    "    '''\n",
    "    Com até {words} palavras.\n",
    "    '''\n",
    ")\n",
    "\n",
    "p_final = (p_words_count \n",
    "           + p_question \n",
    "           + p_lanquage)\n",
    "\n",
    "prompt = p_final.format(\n",
    "    language='english',\n",
    "    question='O que é uma estrela?',\n",
    "    words=10\n",
    ")\n",
    "\n",
    "print(prompt, end='')\n",
    "\n"
   ]
  },
  {
   "cell_type": "code",
   "execution_count": 61,
   "id": "712b8180",
   "metadata": {},
   "outputs": [
    {
     "data": {
      "text/plain": [
       "'\\n    A star is a luminous sphere of plasma held together by its own gravity.'"
      ]
     },
     "execution_count": 61,
     "metadata": {},
     "output_type": "execute_result"
    }
   ],
   "source": [
    "llm.invoke(prompt)  # type: ignore"
   ]
  }
 ],
 "metadata": {
  "kernelspec": {
   "display_name": ".venv",
   "language": "python",
   "name": "python3"
  },
  "language_info": {
   "codemirror_mode": {
    "name": "ipython",
    "version": 3
   },
   "file_extension": ".py",
   "mimetype": "text/x-python",
   "name": "python",
   "nbconvert_exporter": "python",
   "pygments_lexer": "ipython3",
   "version": "3.13.2"
  }
 },
 "nbformat": 4,
 "nbformat_minor": 5
}
