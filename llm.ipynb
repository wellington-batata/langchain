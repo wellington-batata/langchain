{
 "cells": [
  {
   "cell_type": "code",
   "execution_count": 6,
   "id": "d4cfbc91",
   "metadata": {},
   "outputs": [
    {
     "name": "stdout",
     "output_type": "stream",
     "text": [
      "Requirement already satisfied: openai in c:\\users\\wellington\\documents\\projetos\\github\\asimov\\langchain\\.venv\\lib\\site-packages (1.79.0)\n",
      "Collecting langchain-openai\n",
      "  Downloading langchain_openai-0.3.17-py3-none-any.whl.metadata (2.3 kB)\n",
      "Requirement already satisfied: anyio<5,>=3.5.0 in c:\\users\\wellington\\documents\\projetos\\github\\asimov\\langchain\\.venv\\lib\\site-packages (from openai) (4.9.0)\n",
      "Requirement already satisfied: distro<2,>=1.7.0 in c:\\users\\wellington\\documents\\projetos\\github\\asimov\\langchain\\.venv\\lib\\site-packages (from openai) (1.9.0)\n",
      "Requirement already satisfied: httpx<1,>=0.23.0 in c:\\users\\wellington\\documents\\projetos\\github\\asimov\\langchain\\.venv\\lib\\site-packages (from openai) (0.28.1)\n",
      "Requirement already satisfied: jiter<1,>=0.4.0 in c:\\users\\wellington\\documents\\projetos\\github\\asimov\\langchain\\.venv\\lib\\site-packages (from openai) (0.10.0)\n",
      "Requirement already satisfied: pydantic<3,>=1.9.0 in c:\\users\\wellington\\documents\\projetos\\github\\asimov\\langchain\\.venv\\lib\\site-packages (from openai) (2.11.4)\n",
      "Requirement already satisfied: sniffio in c:\\users\\wellington\\documents\\projetos\\github\\asimov\\langchain\\.venv\\lib\\site-packages (from openai) (1.3.1)\n",
      "Requirement already satisfied: tqdm>4 in c:\\users\\wellington\\documents\\projetos\\github\\asimov\\langchain\\.venv\\lib\\site-packages (from openai) (4.67.1)\n",
      "Requirement already satisfied: typing-extensions<5,>=4.11 in c:\\users\\wellington\\documents\\projetos\\github\\asimov\\langchain\\.venv\\lib\\site-packages (from openai) (4.13.2)\n",
      "Requirement already satisfied: idna>=2.8 in c:\\users\\wellington\\documents\\projetos\\github\\asimov\\langchain\\.venv\\lib\\site-packages (from anyio<5,>=3.5.0->openai) (3.10)\n",
      "Requirement already satisfied: certifi in c:\\users\\wellington\\documents\\projetos\\github\\asimov\\langchain\\.venv\\lib\\site-packages (from httpx<1,>=0.23.0->openai) (2025.4.26)\n",
      "Requirement already satisfied: httpcore==1.* in c:\\users\\wellington\\documents\\projetos\\github\\asimov\\langchain\\.venv\\lib\\site-packages (from httpx<1,>=0.23.0->openai) (1.0.9)\n",
      "Requirement already satisfied: h11>=0.16 in c:\\users\\wellington\\documents\\projetos\\github\\asimov\\langchain\\.venv\\lib\\site-packages (from httpcore==1.*->httpx<1,>=0.23.0->openai) (0.16.0)\n",
      "Requirement already satisfied: annotated-types>=0.6.0 in c:\\users\\wellington\\documents\\projetos\\github\\asimov\\langchain\\.venv\\lib\\site-packages (from pydantic<3,>=1.9.0->openai) (0.7.0)\n",
      "Requirement already satisfied: pydantic-core==2.33.2 in c:\\users\\wellington\\documents\\projetos\\github\\asimov\\langchain\\.venv\\lib\\site-packages (from pydantic<3,>=1.9.0->openai) (2.33.2)\n",
      "Requirement already satisfied: typing-inspection>=0.4.0 in c:\\users\\wellington\\documents\\projetos\\github\\asimov\\langchain\\.venv\\lib\\site-packages (from pydantic<3,>=1.9.0->openai) (0.4.0)\n",
      "Collecting langchain-core<1.0.0,>=0.3.59 (from langchain-openai)\n",
      "  Downloading langchain_core-0.3.60-py3-none-any.whl.metadata (5.8 kB)\n",
      "Collecting tiktoken<1,>=0.7 (from langchain-openai)\n",
      "  Downloading tiktoken-0.9.0-cp313-cp313-win_amd64.whl.metadata (6.8 kB)\n",
      "Collecting langsmith<0.4,>=0.1.126 (from langchain-core<1.0.0,>=0.3.59->langchain-openai)\n",
      "  Downloading langsmith-0.3.42-py3-none-any.whl.metadata (15 kB)\n",
      "Collecting tenacity!=8.4.0,<10.0.0,>=8.1.0 (from langchain-core<1.0.0,>=0.3.59->langchain-openai)\n",
      "  Downloading tenacity-9.1.2-py3-none-any.whl.metadata (1.2 kB)\n",
      "Collecting jsonpatch<2.0,>=1.33 (from langchain-core<1.0.0,>=0.3.59->langchain-openai)\n",
      "  Downloading jsonpatch-1.33-py2.py3-none-any.whl.metadata (3.0 kB)\n",
      "Collecting PyYAML>=5.3 (from langchain-core<1.0.0,>=0.3.59->langchain-openai)\n",
      "  Using cached PyYAML-6.0.2-cp313-cp313-win_amd64.whl.metadata (2.1 kB)\n",
      "Collecting packaging<25,>=23.2 (from langchain-core<1.0.0,>=0.3.59->langchain-openai)\n",
      "  Using cached packaging-24.2-py3-none-any.whl.metadata (3.2 kB)\n",
      "Collecting jsonpointer>=1.9 (from jsonpatch<2.0,>=1.33->langchain-core<1.0.0,>=0.3.59->langchain-openai)\n",
      "  Using cached jsonpointer-3.0.0-py2.py3-none-any.whl.metadata (2.3 kB)\n",
      "Collecting orjson<4.0.0,>=3.9.14 (from langsmith<0.4,>=0.1.126->langchain-core<1.0.0,>=0.3.59->langchain-openai)\n",
      "  Downloading orjson-3.10.18-cp313-cp313-win_amd64.whl.metadata (43 kB)\n",
      "Collecting requests<3,>=2 (from langsmith<0.4,>=0.1.126->langchain-core<1.0.0,>=0.3.59->langchain-openai)\n",
      "  Using cached requests-2.32.3-py3-none-any.whl.metadata (4.6 kB)\n",
      "Collecting requests-toolbelt<2.0.0,>=1.0.0 (from langsmith<0.4,>=0.1.126->langchain-core<1.0.0,>=0.3.59->langchain-openai)\n",
      "  Downloading requests_toolbelt-1.0.0-py2.py3-none-any.whl.metadata (14 kB)\n",
      "Collecting zstandard<0.24.0,>=0.23.0 (from langsmith<0.4,>=0.1.126->langchain-core<1.0.0,>=0.3.59->langchain-openai)\n",
      "  Downloading zstandard-0.23.0-cp313-cp313-win_amd64.whl.metadata (3.0 kB)\n",
      "Collecting charset-normalizer<4,>=2 (from requests<3,>=2->langsmith<0.4,>=0.1.126->langchain-core<1.0.0,>=0.3.59->langchain-openai)\n",
      "  Downloading charset_normalizer-3.4.2-cp313-cp313-win_amd64.whl.metadata (36 kB)\n",
      "Collecting urllib3<3,>=1.21.1 (from requests<3,>=2->langsmith<0.4,>=0.1.126->langchain-core<1.0.0,>=0.3.59->langchain-openai)\n",
      "  Downloading urllib3-2.4.0-py3-none-any.whl.metadata (6.5 kB)\n",
      "Collecting regex>=2022.1.18 (from tiktoken<1,>=0.7->langchain-openai)\n",
      "  Using cached regex-2024.11.6-cp313-cp313-win_amd64.whl.metadata (41 kB)\n",
      "Requirement already satisfied: colorama in c:\\users\\wellington\\documents\\projetos\\github\\asimov\\langchain\\.venv\\lib\\site-packages (from tqdm>4->openai) (0.4.6)\n",
      "Downloading langchain_openai-0.3.17-py3-none-any.whl (62 kB)\n",
      "Downloading langchain_core-0.3.60-py3-none-any.whl (437 kB)\n",
      "Downloading jsonpatch-1.33-py2.py3-none-any.whl (12 kB)\n",
      "Downloading langsmith-0.3.42-py3-none-any.whl (360 kB)\n",
      "Downloading orjson-3.10.18-cp313-cp313-win_amd64.whl (134 kB)\n",
      "Using cached packaging-24.2-py3-none-any.whl (65 kB)\n",
      "Using cached requests-2.32.3-py3-none-any.whl (64 kB)\n",
      "Downloading charset_normalizer-3.4.2-cp313-cp313-win_amd64.whl (105 kB)\n",
      "Downloading requests_toolbelt-1.0.0-py2.py3-none-any.whl (54 kB)\n",
      "Downloading tenacity-9.1.2-py3-none-any.whl (28 kB)\n",
      "Downloading tiktoken-0.9.0-cp313-cp313-win_amd64.whl (894 kB)\n",
      "   ---------------------------------------- 0.0/894.7 kB ? eta -:--:--\n",
      "   --------------------------------------- 894.7/894.7 kB 25.1 MB/s eta 0:00:00\n",
      "Downloading urllib3-2.4.0-py3-none-any.whl (128 kB)\n",
      "Downloading zstandard-0.23.0-cp313-cp313-win_amd64.whl (495 kB)\n",
      "Using cached jsonpointer-3.0.0-py2.py3-none-any.whl (7.6 kB)\n",
      "Using cached PyYAML-6.0.2-cp313-cp313-win_amd64.whl (156 kB)\n",
      "Using cached regex-2024.11.6-cp313-cp313-win_amd64.whl (273 kB)\n",
      "Installing collected packages: zstandard, urllib3, tenacity, regex, PyYAML, packaging, orjson, jsonpointer, charset-normalizer, requests, jsonpatch, tiktoken, requests-toolbelt, langsmith, langchain-core, langchain-openai\n",
      "\n",
      "   -- -------------------------------------  1/16 [urllib3]\n",
      "   ----- ----------------------------------  2/16 [tenacity]\n",
      "   ------- --------------------------------  3/16 [regex]\n",
      "  Attempting uninstall: packaging\n",
      "   ------- --------------------------------  3/16 [regex]\n",
      "    Found existing installation: packaging 25.0\n",
      "   ------- --------------------------------  3/16 [regex]\n",
      "    Uninstalling packaging-25.0:\n",
      "   ------- --------------------------------  3/16 [regex]\n",
      "   ------------ ---------------------------  5/16 [packaging]\n",
      "      Successfully uninstalled packaging-25.0\n",
      "   ------------ ---------------------------  5/16 [packaging]\n",
      "   ----------------- ----------------------  7/16 [jsonpointer]\n",
      "   ---------------------- -----------------  9/16 [requests]\n",
      "   --------------------------- ------------ 11/16 [tiktoken]\n",
      "   ------------------------------ --------- 12/16 [requests-toolbelt]\n",
      "   -------------------------------- ------- 13/16 [langsmith]\n",
      "   -------------------------------- ------- 13/16 [langsmith]\n",
      "   -------------------------------- ------- 13/16 [langsmith]\n",
      "   ----------------------------------- ---- 14/16 [langchain-core]\n",
      "   ----------------------------------- ---- 14/16 [langchain-core]\n",
      "   ----------------------------------- ---- 14/16 [langchain-core]\n",
      "   ----------------------------------- ---- 14/16 [langchain-core]\n",
      "   ----------------------------------- ---- 14/16 [langchain-core]\n",
      "   ----------------------------------- ---- 14/16 [langchain-core]\n",
      "   ----------------------------------- ---- 14/16 [langchain-core]\n",
      "   ---------------------------------------- 16/16 [langchain-openai]\n",
      "\n",
      "Successfully installed PyYAML-6.0.2 charset-normalizer-3.4.2 jsonpatch-1.33 jsonpointer-3.0.0 langchain-core-0.3.60 langchain-openai-0.3.17 langsmith-0.3.42 orjson-3.10.18 packaging-24.2 regex-2024.11.6 requests-2.32.3 requests-toolbelt-1.0.0 tenacity-9.1.2 tiktoken-0.9.0 urllib3-2.4.0 zstandard-0.23.0\n",
      "Note: you may need to restart the kernel to use updated packages.\n"
     ]
    }
   ],
   "source": [
    "pip install openai langchain-openai"
   ]
  },
  {
   "cell_type": "code",
   "execution_count": 7,
   "id": "0c5ff8e6",
   "metadata": {},
   "outputs": [],
   "source": [
    "from langchain_openai import OpenAI\n",
    "\n",
    "llm = OpenAI()"
   ]
  },
  {
   "cell_type": "markdown",
   "id": "689658eb",
   "metadata": {},
   "source": [
    "## Chamando a LLM"
   ]
  },
  {
   "cell_type": "markdown",
   "id": "fe517d1d",
   "metadata": {},
   "source": [
    "### Chamada única"
   ]
  },
  {
   "cell_type": "code",
   "execution_count": 8,
   "id": "07b7b795",
   "metadata": {},
   "outputs": [
    {
     "data": {
      "text/plain": [
       "'\\n\\nO céu pode ter diversas cores, dependendo do horário e das condições climáticas. Durante o dia, ele geralmente apresenta uma cor azul clara, mas pode variar para tons de roxo, rosa e laranja durante o amanhecer e o entardecer. Durante a noite, o céu pode ficar escuro ou apresentar tons de roxo escuro e preto.'"
      ]
     },
     "execution_count": 8,
     "metadata": {},
     "output_type": "execute_result"
    }
   ],
   "source": [
    "question = \"Qual o cor do céu?\"\n",
    "\n",
    "llm.invoke(question)"
   ]
  },
  {
   "cell_type": "markdown",
   "id": "f4f2c006",
   "metadata": {},
   "source": [
    "### Chamada via STREAM"
   ]
  },
  {
   "cell_type": "code",
   "execution_count": 10,
   "id": "2ea871bb",
   "metadata": {},
   "outputs": [
    {
     "name": "stdout",
     "output_type": "stream",
     "text": [
      "\n",
      "\n",
      "O céu não possui uma cor específica, pois ela pode variar de acordo com a hora do dia, condições meteorológicas e localização geográfica. Em dias ensolarados, o céu pode apresentar tons de azul claro. Em dias nublados, pode parecer acinzentado. Durante o pôr do sol e o nascer do sol, pode apresentar tons de laranja, rosa e roxo. À noite, pode parecer escuro ou negro, mas durante a lua cheia, pode apresentar tons de cinza claro."
     ]
    }
   ],
   "source": [
    "for text in llm.stream(question):\n",
    "    print(text, end=\"\", flush=True)"
   ]
  },
  {
   "cell_type": "markdown",
   "id": "f6cdc843",
   "metadata": {},
   "source": [
    "### Chamadas múltiplas"
   ]
  },
  {
   "cell_type": "code",
   "execution_count": 15,
   "id": "3ece8a38",
   "metadata": {},
   "outputs": [
    {
     "data": {
      "text/plain": [
       "['\\n\\nO céu não tem uma cor específica, pois pode variar de acordo com a posição do sol, a presença de nuvens e outros fatores. Durante o dia, o céu costuma apresentar uma tonalidade azul ou azul claro, enquanto à noite pode ser visto como um tom escuro, quase preto, com pontos brilhantes de estrelas. Em outras situações, como em dias nublados ou durante o pôr do sol, o céu pode apresentar cores diferentes, como laranja, rosa, roxo ou vermelho. ',\n",
       " '\\n\\nA cor do mar pode variar de acordo com diversos fatores, como a profundidade, a presença de sedimentos e algas, a presença de luz solar e a localização geográfica. Em geral, a cor do mar pode ser azul, verde, turquesa, cinza ou marrom, entre outras tonalidades. ']"
      ]
     },
     "execution_count": 15,
     "metadata": {},
     "output_type": "execute_result"
    }
   ],
   "source": [
    "questions = [\n",
    "    \"Qual o cor do céu?\",\n",
    "    \"Qual a cor do mar?\"\n",
    "    ]\n",
    "\n",
    "llm.batch(questions)"
   ]
  },
  {
   "cell_type": "markdown",
   "id": "26fd2929",
   "metadata": {},
   "source": [
    "# ChatModels"
   ]
  },
  {
   "cell_type": "code",
   "execution_count": 16,
   "id": "901825d5",
   "metadata": {},
   "outputs": [],
   "source": [
    "from langchain_openai import ChatOpenAI\n",
    "\n",
    "chat = ChatOpenAI(model=\"gpt-3.5-turbo-0125\")\n"
   ]
  },
  {
   "cell_type": "code",
   "execution_count": 19,
   "id": "bfa94ae9",
   "metadata": {},
   "outputs": [],
   "source": [
    "from langchain_core.messages import SystemMessage, HumanMessage\n",
    "\n",
    "messages = [\n",
    "    SystemMessage(content=\"Você é um assistente muito bem humorado.\"),\n",
    "    HumanMessage(content=\"Por que o céu é azul?\"),\n",
    "\n",
    "]\n",
    "\n",
    "output = chat.invoke(messages)"
   ]
  },
  {
   "cell_type": "markdown",
   "id": "31e55df2",
   "metadata": {},
   "source": [
    "### Imprimindo o resultado"
   ]
  },
  {
   "cell_type": "code",
   "execution_count": 20,
   "id": "4002dc19",
   "metadata": {},
   "outputs": [
    {
     "name": "stdout",
     "output_type": "stream",
     "text": [
      "O céu é azul devido à dispersão da luz solar pelas moléculas de ar na atmosfera terrestre. A luz do sol é composta por diferentes cores, sendo que a luz azul é dispersa com mais eficiência do que as outras cores pelo ar, fazendo com que enxerguemos o céu na cor azul. Viu como a natureza é incrível? 😉\n"
     ]
    }
   ],
   "source": [
    "print(output.content)"
   ]
  },
  {
   "cell_type": "markdown",
   "id": "a9dd724b",
   "metadata": {},
   "source": [
    "### Metadata dos tokens usados"
   ]
  },
  {
   "cell_type": "code",
   "execution_count": 21,
   "id": "f11919c6",
   "metadata": {},
   "outputs": [
    {
     "data": {
      "text/plain": [
       "{'token_usage': {'completion_tokens': 91,\n",
       "  'prompt_tokens': 30,\n",
       "  'total_tokens': 121,\n",
       "  'completion_tokens_details': {'accepted_prediction_tokens': 0,\n",
       "   'audio_tokens': 0,\n",
       "   'reasoning_tokens': 0,\n",
       "   'rejected_prediction_tokens': 0},\n",
       "  'prompt_tokens_details': {'audio_tokens': 0, 'cached_tokens': 0}},\n",
       " 'model_name': 'gpt-3.5-turbo-0125',\n",
       " 'system_fingerprint': None,\n",
       " 'id': 'chatcmpl-BZgERwCxHXflv303AMhEj1Z6xnHbO',\n",
       " 'service_tier': 'default',\n",
       " 'finish_reason': 'stop',\n",
       " 'logprobs': None}"
      ]
     },
     "execution_count": 21,
     "metadata": {},
     "output_type": "execute_result"
    }
   ],
   "source": [
    "output.response_metadata"
   ]
  },
  {
   "cell_type": "markdown",
   "id": "80750f2b",
   "metadata": {},
   "source": [
    "### Modo Stream"
   ]
  },
  {
   "cell_type": "code",
   "execution_count": 24,
   "id": "ffc7f6dd",
   "metadata": {},
   "outputs": [
    {
     "name": "stdout",
     "output_type": "stream",
     "text": [
      "O céu é azul devido à dispersão da luz solar pelas partículas de ar na atmosfera terrestre. A luz solar é composta por diferentes cores, e as moléculas de ar espalham mais eficientemente a luz azul do que as outras cores do espectro visível, fazendo com que enxerguemos o céu como sendo azul. É como se o ar funcionasse como um gigantesco filtro que separa as cores e nos dá esse lindo céu azul que tanto apreciamos. 😉"
     ]
    }
   ],
   "source": [
    "for text in chat.stream(messages):\n",
    "    print(text.content, end=\"\", flush=True)\n"
   ]
  }
 ],
 "metadata": {
  "kernelspec": {
   "display_name": ".venv",
   "language": "python",
   "name": "python3"
  },
  "language_info": {
   "codemirror_mode": {
    "name": "ipython",
    "version": 3
   },
   "file_extension": ".py",
   "mimetype": "text/x-python",
   "name": "python",
   "nbconvert_exporter": "python",
   "pygments_lexer": "ipython3",
   "version": "3.13.2"
  }
 },
 "nbformat": 4,
 "nbformat_minor": 5
}
